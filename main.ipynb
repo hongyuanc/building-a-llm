{
 "cells": [
  {
   "cell_type": "code",
   "execution_count": 2,
   "metadata": {},
   "outputs": [],
   "source": [
    "import torch"
   ]
  },
  {
   "cell_type": "code",
   "execution_count": null,
   "metadata": {},
   "outputs": [],
   "source": [
    "# Read the text file\n",
    "def read_text_file(file_path):\n",
    "    with open(file_path, 'r', encoding='utf-8') as file:\n",
    "        text = file.read()\n",
    "    return text\n",
    "\n",
    "# Tokenize the text (simple whitespace tokenization)\n",
    "def tokenize_text(text):\n",
    "    tokens = text.split()\n",
    "    return tokens\n",
    "\n",
    "# Build a vocabulary and encode the text\n",
    "def build_vocab(tokens):\n",
    "    vocab = {token: idx for idx, token in enumerate(set(tokens))}\n",
    "    return vocab\n",
    "\n",
    "def encode_text(tokens, vocab):\n",
    "    encoded = [vocab[token] for token in tokens]\n",
    "    return torch.tensor(encoded, dtype=torch.long)\n",
    "\n",
    "# Decode the tokens back to text\n",
    "def decode_tokens(encoded_tensor, vocab):\n",
    "    reverse_vocab = {idx: token for token, idx in vocab.items()}\n",
    "    decoded_text = \" \".join([reverse_vocab[idx.item()] for idx in encoded_tensor])\n",
    "    return decoded_text\n",
    "\n",
    "# Example usage\n",
    "file_path = 'your_text_file.txt'  # Replace with your file path\n",
    "text = read_text_file(file_path)\n",
    "\n",
    "# Tokenize the text\n",
    "tokens = tokenize_text(text)\n",
    "\n",
    "# Build vocabulary and encode the tokens\n",
    "vocab = build_vocab(tokens)\n",
    "encoded_tensor = encode_text(tokens, vocab)\n",
    "\n",
    "print(f\"Tokens: {tokens}\")\n",
    "print(f\"Encoded Tensor: {encoded_tensor}\")\n",
    "\n",
    "# Decode the tensor back to text\n",
    "decoded_text = decode_tokens(encoded_tensor, vocab)\n",
    "print(f\"Decoded Text: {decoded_text}\")"
   ]
  }
 ],
 "metadata": {
  "kernelspec": {
   "display_name": "Python 3",
   "language": "python",
   "name": "python3"
  },
  "language_info": {
   "codemirror_mode": {
    "name": "ipython",
    "version": 3
   },
   "file_extension": ".py",
   "mimetype": "text/x-python",
   "name": "python",
   "nbconvert_exporter": "python",
   "pygments_lexer": "ipython3",
   "version": "3.11.5"
  }
 },
 "nbformat": 4,
 "nbformat_minor": 2
}
