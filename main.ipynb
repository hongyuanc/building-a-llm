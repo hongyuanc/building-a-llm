{
 "cells": [
  {
   "cell_type": "code",
   "execution_count": 36,
   "metadata": {},
   "outputs": [
    {
     "name": "stdout",
     "output_type": "stream",
     "text": [
      "cpu\n"
     ]
    }
   ],
   "source": [
    "# importing libraries\n",
    "import torch\n",
    "import tiktoken\n",
    "import torch.nn as nn\n",
    "from torch.nn import functional as F\n",
    "device = 'cuda' if torch.cuda.is_available() else 'cpu'\n",
    "print(device)"
   ]
  },
  {
   "cell_type": "code",
   "execution_count": 11,
   "metadata": {},
   "outputs": [],
   "source": [
    "# read the text file\n",
    "def read_text_file(file_path):\n",
    "    with open(file_path, 'r', encoding='utf-8') as file:\n",
    "        text = file.read()\n",
    "    return text"
   ]
  },
  {
   "cell_type": "code",
   "execution_count": 23,
   "metadata": {},
   "outputs": [],
   "source": [
    "# feeding the text and cleaning it\n",
    "file_path = 'training_text.txt'\n",
    "text = read_text_file(file_path)\n",
    "\n",
    "text = text.strip(\"\\ufeff\")\n",
    "text = text.replace(\"\\n\", \" \")"
   ]
  },
  {
   "cell_type": "code",
   "execution_count": 29,
   "metadata": {},
   "outputs": [
    {
     "name": "stdout",
     "output_type": "stream",
     "text": [
      "In my younger and more vulnerable years my father gave me some advice that I’ve been turning over in\n"
     ]
    }
   ],
   "source": [
    "# length of text\n",
    "print(len(text))\n",
    "print(text[:100])"
   ]
  },
  {
   "cell_type": "code",
   "execution_count": 19,
   "metadata": {},
   "outputs": [
    {
     "name": "stdout",
     "output_type": "stream",
     "text": [
      "\n",
      " !$()*,-.0123456789:;?ABCDEFGHIJKLMNOPQRSTUVWXY[]abcdefghijklmnopqrstuvwxyzçéêô —‘’“”…\n",
      "87\n"
     ]
    }
   ],
   "source": [
    "# checking all the characters used in the text\n",
    "char = sorted(list(set(text)))\n",
    "vocab_size = len(char)\n",
    "print(''.join(char))\n",
    "print(vocab_size)"
   ]
  },
  {
   "cell_type": "code",
   "execution_count": 20,
   "metadata": {},
   "outputs": [
    {
     "data": {
      "text/plain": [
       "50257"
      ]
     },
     "execution_count": 20,
     "metadata": {},
     "output_type": "execute_result"
    }
   ],
   "source": [
    "# bringing in tiktoken's tokenizer\n",
    "enc = tiktoken.get_encoding(\"gpt2\")\n",
    "enc.n_vocab"
   ]
  },
  {
   "cell_type": "code",
   "execution_count": 25,
   "metadata": {},
   "outputs": [
    {
     "name": "stdout",
     "output_type": "stream",
     "text": [
      "[31373]\n",
      "[818, 616, 7099, 290, 517, 8826, 812, 616, 2988, 2921, 502, 617, 5608, 326, 314, 447, 247, 303, 587, 6225, 625, 287]\n"
     ]
    },
    {
     "data": {
      "text/plain": [
       "'In my younger and more vulnerable years my father gave me some advice that I’ve been turning over in'"
      ]
     },
     "execution_count": 25,
     "metadata": {},
     "output_type": "execute_result"
    }
   ],
   "source": [
    "# testing with encoding and decoding; it works\n",
    "encode = enc.encode(\"hello\")\n",
    "print(encode)\n",
    "enc.decode(encode)\n",
    "\n",
    "encode1 = enc.encode(text[:100])\n",
    "print(encode1)\n",
    "enc.decode(encode1)"
   ]
  },
  {
   "cell_type": "code",
   "execution_count": 33,
   "metadata": {},
   "outputs": [
    {
     "name": "stdout",
     "output_type": "stream",
     "text": [
      "torch.Size([71784]) torch.int64\n",
      "tensor([  818,   616,  7099,   290,   517,  8826,   812,   616,  2988,  2921,\n",
      "          502,   617,  5608,   326,   314,   447,   247,   303,   587,  6225,\n",
      "          625,   287,   616,  2000,  1683,  1201,    13,   220,   564,   250,\n",
      "        28877,   345,  1254,   588, 26816,  2687,    11,   447,   251,   339,\n",
      "         1297,   502,    11,   564,   250,  3137,  3505,   326,   477,   262,\n",
      "          661,   287,   428,   995,  4398,   447,   247,    83,   550,   262,\n",
      "        13391,   326,   345,   447,   247,   303,   550,    13,   447,   251,\n",
      "          220,   679,  1422,   447,   247,    83,   910,   597,   517,    11,\n",
      "          475,   356,   447,   247,   303,  1464,   587, 23708,  1316, 43058,\n",
      "          287,   257, 10395,   835,    11,   290,   314,  7247,   326,   339,\n",
      "         4001,   257,  1049,  1730,   517,   621,   326,    13,   554, 12921,\n",
      "           11,   314,   447,   247,    76, 19514,   284, 11515,   477,  2553,\n",
      "        43547,    11,   257,  7947,   326,   468,  4721,   510,   867, 11040,\n",
      "          299,  6691,   284,   502,   290,   635,   925,   502,   262,  3117,\n",
      "          286,   407,   257,  1178,  9298,   275,  2850,    13,   383, 18801,\n",
      "         2000,   318,  2068,   284,  4886,   290, 10199,  2346,   284,   428,\n",
      "         3081,   618,   340,  3568,   287,   257,  3487,  1048,    11,   290,\n",
      "          523,   340,  1625,   546,   326,   287,  4152,   314,   373, 21218,\n",
      "          306,  5371,   286,   852,   257, 14971,    11,   780,   314,   373,\n",
      "         1953,    88,   284,   262,  3200, 18522,    82,   286,  4295,    11,\n",
      "         6439,  1450,    13,  4042,   286,   262,  1013, 44845,   547,  5576,\n",
      "         2917,   960,    69, 37971,   314,   423,   730,  3916,  3993,    11,\n",
      "          662, 19596,   341,    11,   393,   257, 12524,   443, 21319,   618,\n",
      "          314,  6939,   416,   617, 40016, 29033,  1051,   326,   281, 16584,\n",
      "        16084,   373,   627, 35598,   319,   262, 17810,    26,   329,   262,\n",
      "        16584, 19111,   286,  1862,  1450,    11,   393,   379,  1551,   262,\n",
      "         2846,   287,   543,   484,  4911,   606,    11,   389,  3221, 42054,\n",
      "         2569,   290,  1667,   445,   416,  3489, 18175,   507,    13,  1874,\n",
      "        14344,  2553, 43547,   318,   257,  2300,   286, 15541,  2911,    13,\n",
      "          314,   716,   991,   257,  1310,  7787,   286,  4814,  1223,   611,\n",
      "          314,  6044,   326,    11,   355,   616,  2988,  3013, 21963, 29735,\n",
      "         5220,    11,   290,   314,  3013, 21963, 29735,  9585,    11,   257,\n",
      "         2565,   286,   262,  7531,   875,  3976,   318,  1582,   344,  3353,\n",
      "          503, 21149,   453,   379,  4082,    13,   220,   843,    11,   706,\n",
      "        40776,   428,   835,   286,   616, 15621,    11,   314,  1282,   284,\n",
      "          262, 13938,   326,   340,   468,   257,  4179,    13, 28579,   743,\n",
      "          307,  9393,   319,   262,  1327,  3881,   393,   262,  9583, 48962,\n",
      "          956,    11,   475,   706,   257,  1728,   966,   314,   836,   447,\n",
      "          247,    83,  1337,   644,   340,   447,   247,    82,  9393,   319,\n",
      "           13,  1649,   314,  1625,   736,   422,   262,  3687,   938, 23608,\n",
      "          314,  2936,   326,   314,  2227,   262,   995,   284,   307,   287,\n",
      "         8187,   290,   379,   257,  3297,   286,  6573,  3241,  8097,    26,\n",
      "          314,  2227,   645,   517, 16352,   516,  2859, 42394,   351, 21929,\n",
      "        41226,   274,   656,   262,  1692,  2612,    13,  5514,   402,  1381,\n",
      "         1525,    11,   262,   582,   508,  3607,   465,  1438,   284,   428,\n",
      "         1492,    11,   373, 13068,   422,   616,  6317,   960,    38,  1381,\n",
      "         1525,    11,   508,  7997,  2279,   329,   543,   314,   423,   281,\n",
      "        35290, 40987,    13,  1002,  8806,   318,   281,   555, 25826,  2168,\n",
      "          286,  4388, 24621,    11,   788,   612,   373,  1223, 18857,   546,\n",
      "          683,    11,   617, 25556, 14233,   284,   262, 10497,   286,  1204])\n"
     ]
    }
   ],
   "source": [
    "# now encoding the entire text\n",
    "data = torch.tensor(enc.encode(text), dtype=torch.long)\n",
    "print(data.shape, data.dtype)\n",
    "print(data[:500])"
   ]
  },
  {
   "cell_type": "code",
   "execution_count": 34,
   "metadata": {},
   "outputs": [],
   "source": [
    "# splitting data into training data and validation data\n",
    "n = int(0.9*len(data))\n",
    "train = data[:n]\n",
    "val = data[n:]"
   ]
  },
  {
   "cell_type": "code",
   "execution_count": 35,
   "metadata": {},
   "outputs": [
    {
     "data": {
      "text/plain": [
       "tensor([ 818,  616, 7099,  290,  517, 8826,  812,  616, 2988])"
      ]
     },
     "execution_count": 35,
     "metadata": {},
     "output_type": "execute_result"
    }
   ],
   "source": [
    "# setting up block size\n",
    "block_size = 8\n",
    "train[:block_size + 1]"
   ]
  },
  {
   "cell_type": "code",
   "execution_count": 45,
   "metadata": {},
   "outputs": [],
   "source": [
    "# setting batch size\n",
    "batch_size = 4\n",
    "\n",
    "# function for getting a batch of random blocks within data, set my batch_size\n",
    "def get_batch(split):\n",
    "    if split == \"train\":\n",
    "        data = train\n",
    "    else:\n",
    "        data = val\n",
    "\n",
    "    ix = torch.randint(len(data) - batch_size, (batch_size,))\n",
    "    x = torch.stack([data[i:i + block_size] for i in ix])\n",
    "    y = torch.stack([data[i + 1: i + block_size + 1] for i in ix])\n",
    "    \n",
    "    return x, y"
   ]
  },
  {
   "cell_type": "code",
   "execution_count": 50,
   "metadata": {},
   "outputs": [
    {
     "name": "stdout",
     "output_type": "stream",
     "text": [
      "tensor([[ 7953,   284,   257,   582,   422,   968, 12255,    13],\n",
      "        [ 2300,    30,   447,   251,   220,   564,   250,    40],\n",
      "        [  487,  1108,    13,   220,  8127,   447,   247,    82],\n",
      "        [   13,   564,   250,  6090,   447,   247,    83,   345]])\n",
      "tensor([[  284,   257,   582,   422,   968, 12255,    13,   554],\n",
      "        [   30,   447,   251,   220,   564,   250,    40,   447],\n",
      "        [ 1108,    13,   220,  8127,   447,   247,    82,  2951],\n",
      "        [  564,   250,  6090,   447,   247,    83,   345,  1561]])\n"
     ]
    }
   ],
   "source": [
    "# collecting inputs and targets from the training data\n",
    "# targets used for creating the loss function later on\n",
    "xb, yb = get_batch(\"train\")\n",
    "\n",
    "print(xb)\n",
    "print(yb)"
   ]
  }
 ],
 "metadata": {
  "kernelspec": {
   "display_name": "Python 3",
   "language": "python",
   "name": "python3"
  },
  "language_info": {
   "codemirror_mode": {
    "name": "ipython",
    "version": 3
   },
   "file_extension": ".py",
   "mimetype": "text/x-python",
   "name": "python",
   "nbconvert_exporter": "python",
   "pygments_lexer": "ipython3",
   "version": "3.11.5"
  }
 },
 "nbformat": 4,
 "nbformat_minor": 2
}
